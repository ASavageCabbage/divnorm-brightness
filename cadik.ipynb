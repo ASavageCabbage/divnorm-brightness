{
 "cells": [
  {
   "cell_type": "code",
   "execution_count": 1,
   "id": "f4b95c3a-4529-4266-8c06-29e43cf3c65a",
   "metadata": {},
   "outputs": [
    {
     "name": "stdout",
     "output_type": "stream",
     "text": [
      "Calculating brightness response for indoor HDR image\n",
      "RMS luminance: 75.247734\n",
      "Calculating brightness response for indoor tonemapped images\n"
     ]
    },
    {
     "data": {
      "application/vnd.jupyter.widget-view+json": {
       "model_id": "9e6c0d32daf148cd8c83ce64b0cc807b",
       "version_major": 2,
       "version_minor": 0
      },
      "text/plain": [
       "indoor:   0%|          | 0/14 [00:00<?, ?it/s]"
      ]
     },
     "metadata": {},
     "output_type": "display_data"
    },
    {
     "name": "stdout",
     "output_type": "stream",
     "text": [
      "Calculating brightness response for outdoor HDR image\n",
      "RMS luminance: 18.263773\n",
      "Calculating brightness response for outdoor tonemapped images\n"
     ]
    },
    {
     "data": {
      "application/vnd.jupyter.widget-view+json": {
       "model_id": "d5b10b2099f242f5b508bfe0c6eee506",
       "version_major": 2,
       "version_minor": 0
      },
      "text/plain": [
       "outdoor:   0%|          | 0/14 [00:00<?, ?it/s]"
      ]
     },
     "metadata": {},
     "output_type": "display_data"
    },
    {
     "name": "stdout",
     "output_type": "stream",
     "text": [
      "Calculating brightness response for night HDR image\n",
      "RMS luminance: 65.17185\n",
      "Calculating brightness response for night tonemapped images\n"
     ]
    },
    {
     "data": {
      "application/vnd.jupyter.widget-view+json": {
       "model_id": "2162d226a9694456a8134ecb07c15eb3",
       "version_major": 2,
       "version_minor": 0
      },
      "text/plain": [
       "night:   0%|          | 0/14 [00:00<?, ?it/s]"
      ]
     },
     "metadata": {},
     "output_type": "display_data"
    },
    {
     "name": "stdout",
     "output_type": "stream",
     "text": [
      "{\n",
      "  \"indoor\": {\n",
      "    \"ashikhmin02\": 0.0827390970600532,\n",
      "    \"chiu93\": 0.12539512519599064,\n",
      "    \"choudhury03\": 0.08018101330996706,\n",
      "    \"clip\": 0.028375501697065614,\n",
      "    \"drago03\": 0.04992085229885656,\n",
      "    \"durand02\": 0.011961651296661184,\n",
      "    \"fattal02\": 0.037896750043430426,\n",
      "    \"lcis99\": 0.06799908250835575,\n",
      "    \"pattanaik02\": 0.08297043182219802,\n",
      "    \"reinhard02\": 0.030535677701339213,\n",
      "    \"schlick94\": 0.013461819815154378,\n",
      "    \"tumblin99\": 0.02574780588264989,\n",
      "    \"ward94\": 0.015442446819905066,\n",
      "    \"ward97\": 0.029704317828748602\n",
      "  },\n",
      "  \"outdoor\": {\n",
      "    \"ashikhmin02\": 0.055894478260601614,\n",
      "    \"chiu93\": 0.11110225698355351,\n",
      "    \"choudhury03\": 0.05243901779347796,\n",
      "    \"clip\": 0.013483386977293794,\n",
      "    \"drago03\": 0.02791876485645259,\n",
      "    \"durand02\": 0.0040183980430715345,\n",
      "    \"fattal02\": 0.08092771349303396,\n",
      "    \"lcis99\": 0.04355198155178537,\n",
      "    \"pattanaik02\": 0.09164074477388036,\n",
      "    \"reinhard02\": 0.012572565682704958,\n",
      "    \"schlick94\": 0.01036684062897304,\n",
      "    \"tumblin99\": 0.01040493900178064,\n",
      "    \"ward94\": 0.004024727414428499,\n",
      "    \"ward97\": 0.02024575961171276\n",
      "  },\n",
      "  \"night\": {\n",
      "    \"ashikhmin02\": 0.03540939872133369,\n",
      "    \"chiu93\": 0.06678251708363075,\n",
      "    \"choudhury03\": 0.02818939052659957,\n",
      "    \"clip\": 0.005588819404101246,\n",
      "    \"drago03\": 0.028550093796972924,\n",
      "    \"durand02\": 0.005632127495024523,\n",
      "    \"fattal02\": 0.044321519299898755,\n",
      "    \"lcis99\": 0.025529382146521458,\n",
      "    \"pattanaik02\": 0.008570688408231468,\n",
      "    \"reinhard02\": 0.01030011067145014,\n",
      "    \"schlick94\": 0.008611113951490676,\n",
      "    \"tumblin99\": 0.014827037841701661,\n",
      "    \"ward94\": 0.0054793087491417,\n",
      "    \"ward97\": 0.014647923625590925\n",
      "  }\n",
      "}\n"
     ]
    }
   ],
   "source": [
    "import json\n",
    "from pathlib import Path\n",
    "\n",
    "import numpy as np\n",
    "from tqdm.auto import tqdm\n",
    "\n",
    "from src import dino\n",
    "\n",
    "def MSE(img1, img2):\n",
    "    assert img1.shape == img2.shape, f\"{img1.shape} != {img2.shape}\"\n",
    "    return np.mean((img1 - img2) ** 2)\n",
    "\n",
    "tonemapper_brightness_losses = {}\n",
    "for image_name, (width, height) in [\n",
    "    (\"indoor\", (600, 450)),\n",
    "    (\"outdoor\", (600, 900)),\n",
    "    (\"night\", (800, 533)),\n",
    "]:\n",
    "    directory = Path(\"cadik/tonemapped_images\") / image_name\n",
    "    hdr_brightness = None\n",
    "    tonemapper_losses = {}\n",
    "\n",
    "    print(f\"Calculating brightness response for {image_name} HDR image\")\n",
    "    for file in directory.iterdir():\n",
    "        if file.suffix == \".hdr\":\n",
    "            image = dino.read_image(str(file))\n",
    "            image = dino.resize_image(image, resize_width=width, resize_height=height)\n",
    "            L = dino.rgb_to_relative_luminance(image)\n",
    "            print(\"RMS luminance:\", np.mean(L ** 2) ** (1/2))\n",
    "            hdr_brightness = dino.dn_brightness_model(L)\n",
    "            break\n",
    "    print(f\"Calculating brightness response for {image_name} tonemapped images\")\n",
    "    for file in tqdm([f for f in directory.iterdir() if f.suffix == \".png\"], desc=image_name):\n",
    "        image = dino.read_image(str(file))\n",
    "        image = dino.resize_image(image, resize_width=width, resize_height=height)\n",
    "        L = dino.rgb_to_relative_luminance(image) * 200 # screen white in nits\n",
    "        tonemapped_brightness = dino.dn_brightness_model(L)\n",
    "        tonemapper_losses[file.stem.lower()] = MSE(tonemapped_brightness, hdr_brightness)\n",
    "    tonemapper_brightness_losses[image_name] = tonemapper_losses\n",
    "\n",
    "print(json.dumps(tonemapper_brightness_losses, indent=2))"
   ]
  },
  {
   "cell_type": "code",
   "execution_count": 2,
   "id": "02dae91d-c415-4ebe-9f96-040ab38af404",
   "metadata": {},
   "outputs": [
    {
     "name": "stdout",
     "output_type": "stream",
     "text": [
      "         indoor                                                  outdoor  \\\n",
      "             tm brightness contrast details colours quality           tm   \n",
      "0    ashikmin02        8.3      8.0    10.2     8.3     7.6   ashikmin02   \n",
      "1        chiu93        1.1      2.7     3.0     1.1     1.8       chiu93   \n",
      "2   choudhury03        5.2      5.9     7.0     5.4     2.2  choudhury03   \n",
      "3          clip       10.6      7.6     7.6    11.3     8.9         clip   \n",
      "4       drago03       10.9      9.5     6.9     9.0     8.9      drago03   \n",
      "5      durand02        8.4      4.7     6.9     4.6     3.5     durand02   \n",
      "6      fattal02        3.2      5.4     7.4     5.0     5.8     fattal02   \n",
      "7        lcis99        4.1      6.2     5.4     3.4     4.6       lcis99   \n",
      "8   pattanaik02       11.1      8.9    12.4     8.6     6.8  pattanaik02   \n",
      "9    reinhard02       10.8     11.6    10.4    12.5    12.2   reinhard02   \n",
      "10    schlick94        3.8      7.1     6.2     5.6     9.3    schlick94   \n",
      "11    tumblin99       11.1      9.5     7.5    10.3    10.8    tumblin99   \n",
      "12       ward94        7.7      8.1     5.3     9.6     9.7       ward94   \n",
      "13       ward97        8.8      9.8     8.1    10.3    11.5       ward97   \n",
      "\n",
      "                                                      night             \\\n",
      "   brightness contrast details colours quality           tm brightness   \n",
      "0         8.7      6.9     7.7     6.8     4.9   ashikmin02        5.1   \n",
      "1         4.4      3.5     3.1     1.1     0.3       chiu93        1.0   \n",
      "2         8.2      5.8     7.9     7.3     6.0  choudhury03        7.1   \n",
      "3        12.3     13.2    12.5    13.4    13.2         clip       11.3   \n",
      "4         3.6      4.1     5.1     5.4     6.9      drago03        4.9   \n",
      "5         3.6      6.0     4.8     5.6     7.7     durand02       11.4   \n",
      "6         2.8      1.8     3.1     3.7     3.5     fattal02        4.0   \n",
      "7         9.4      7.9     8.8     7.9     7.8       lcis99        6.5   \n",
      "8         6.1      4.1     3.4     2.1     2.1  pattanaik02        9.1   \n",
      "9         9.2     10.6     9.0    10.1     7.9   reinhard02        9.1   \n",
      "10        9.4     10.6    10.7    10.9    11.5    schlick94        8.8   \n",
      "11       12.4     12.7    12.5    13.6    12.9    tumblin99        7.4   \n",
      "12        4.3      6.2     4.1     5.7     8.2       ward94       10.6   \n",
      "13       10.6     11.6    12.3    11.4    11.3       ward97        8.7   \n",
      "\n",
      "                                     \n",
      "   contrast details colours quality  \n",
      "0       3.6     3.6     4.5     3.3  \n",
      "1       1.0     1.0     1.0     1.0  \n",
      "2       6.6     5.3     5.9     5.1  \n",
      "3      12.8    13.2    12.2    12.9  \n",
      "4       4.9     3.3     3.8     3.4  \n",
      "5      12.5    12.8    11.7    13.0  \n",
      "6       2.4     2.4     2.6     2.7  \n",
      "7       6.2     5.8     6.1     5.7  \n",
      "8      10.0    10.5     9.6     9.2  \n",
      "9       9.0     9.4     9.7     9.3  \n",
      "10      9.3     9.7     9.5    10.4  \n",
      "11      7.6     8.1     8.4     8.8  \n",
      "12     12.1    12.1    11.9    12.5  \n",
      "13      7.0     7.8     8.1     7.7  \n"
     ]
    }
   ],
   "source": [
    "import pandas as pd\n",
    "\n",
    "ranking_df = pd.read_csv(\"cadik/ranking_evaluation.csv\", header=[0,1])\n",
    "rating_df = pd.read_csv(\"cadik/rating_evaluation.csv\", header=[0,1])\n",
    "\n",
    "print(ranking_df)"
   ]
  },
  {
   "cell_type": "code",
   "execution_count": null,
   "id": "1e3433bb-af5f-4ff1-ad0d-4abcc719e70d",
   "metadata": {},
   "outputs": [],
   "source": []
  },
  {
   "cell_type": "code",
   "execution_count": 3,
   "id": "28f09f50-c1dc-4691-86b9-2e4fd01a8d59",
   "metadata": {},
   "outputs": [
    {
     "name": "stdout",
     "output_type": "stream",
     "text": [
      "indoor\n",
      "outdoor\n",
      "night\n"
     ]
    }
   ],
   "source": [
    "tm_ranking_dfs = {}\n",
    "\n",
    "for image_name in [\"indoor\", \"outdoor\", \"night\"]:\n",
    "    print(image_name)\n",
    "\n",
    "    headers = [\"dino\"]\n",
    "    # print(\"tone mappers ranked by brightness model:\")\n",
    "    dino = []\n",
    "    # Ascending order, lower loss is better\n",
    "    for i, (tm, _) in enumerate(sorted(tonemapper_brightness_losses[image_name].items(), key=lambda x: x[1])):\n",
    "        # print(f\"{i+1}. {tm}\")\n",
    "        dino.append(tm)\n",
    "\n",
    "    cols = [dino]\n",
    "    for df, name in [(ranking_df, \"ranking\"), (rating_df, \"rating\")]:\n",
    "        for header in df[image_name].columns[1:]:\n",
    "            # print(f\"tone mappers ranked by Cadik {header} {name}:\")\n",
    "            ranking = []\n",
    "            # Descending order, higher ranking is better\n",
    "            for i, tm in enumerate(df.sort_values((image_name, header), ascending=False)[image_name][\"tm\"].to_list()):\n",
    "                # print(f\"{i+1}. {tm}\")\n",
    "                ranking.append(tm)\n",
    "            cols.append(ranking)\n",
    "            headers.append(f\"{header}_{name}\")\n",
    "\n",
    "    tm_ranking_df = pd.DataFrame({h: col for h, col in zip(headers, cols, strict=True)})\n",
    "    tm_ranking_df.to_csv(f\"cadik/{image_name}_tm_ranking.csv\")\n",
    "    tm_ranking_dfs[image_name] = tm_ranking_df"
   ]
  },
  {
   "cell_type": "code",
   "execution_count": 4,
   "id": "152f80f2-dbf4-40ea-a7dc-eab94da30362",
   "metadata": {},
   "outputs": [
    {
     "name": "stdout",
     "output_type": "stream",
     "text": [
      "           dino brightness_ranking contrast_ranking details_ranking  \\\n",
      "0      durand02          tumblin99             clip            clip   \n",
      "1        ward94               clip        tumblin99       tumblin99   \n",
      "2     schlick94             ward97           ward97          ward97   \n",
      "3     tumblin99             lcis99       reinhard02       schlick94   \n",
      "4    reinhard02          schlick94        schlick94      reinhard02   \n",
      "5          clip         reinhard02           lcis99          lcis99   \n",
      "6        ward97         ashikmin02       ashikmin02     choudhury03   \n",
      "7       drago03        choudhury03           ward94      ashikmin02   \n",
      "8        lcis99        pattanaik02         durand02         drago03   \n",
      "9   choudhury03             chiu93      choudhury03        durand02   \n",
      "10  ashikhmin02             ward94      pattanaik02          ward94   \n",
      "11     fattal02            drago03          drago03     pattanaik02   \n",
      "12  pattanaik02           durand02           chiu93          chiu93   \n",
      "13       chiu93           fattal02         fattal02        fattal02   \n",
      "\n",
      "   colours_ranking quality_ranking brightness_rating contrast_rating  \\\n",
      "0        tumblin99            clip        reinhard02      reinhard02   \n",
      "1             clip       tumblin99         schlick94            clip   \n",
      "2           ward97       schlick94              clip        durand02   \n",
      "3        schlick94          ward97         tumblin99       schlick94   \n",
      "4       reinhard02          ward94            ward97          ward94   \n",
      "5           lcis99      reinhard02          durand02          ward97   \n",
      "6      choudhury03          lcis99            lcis99       tumblin99   \n",
      "7       ashikmin02        durand02            ward94          lcis99   \n",
      "8           ward94         drago03        ashikmin02         drago03   \n",
      "9         durand02     choudhury03           drago03     choudhury03   \n",
      "10         drago03      ashikmin02       choudhury03      ashikmin02   \n",
      "11        fattal02        fattal02          fattal02        fattal02   \n",
      "12     pattanaik02     pattanaik02            chiu93          chiu93   \n",
      "13          chiu93          chiu93       pattanaik02     pattanaik02   \n",
      "\n",
      "   details_rating colours_rating quality_rating  \n",
      "0       schlick94     reinhard02           clip  \n",
      "1      reinhard02           clip      tumblin99  \n",
      "2            clip      schlick94      schlick94  \n",
      "3          ward97      tumblin99       durand02  \n",
      "4          lcis99         ward94         ward94  \n",
      "5      ashikmin02       durand02     reinhard02  \n",
      "6     choudhury03         ward97         ward97  \n",
      "7       tumblin99         lcis99         lcis99  \n",
      "8          ward94     ashikmin02    choudhury03  \n",
      "9        durand02    choudhury03        drago03  \n",
      "10        drago03        drago03     ashikmin02  \n",
      "11       fattal02         chiu93    pattanaik02  \n",
      "12         chiu93    pattanaik02       fattal02  \n",
      "13    pattanaik02       fattal02         chiu93  \n"
     ]
    }
   ],
   "source": [
    "print(tm_ranking_dfs[\"outdoor\"])"
   ]
  },
  {
   "cell_type": "code",
   "execution_count": 5,
   "id": "807fd214-082c-4303-a0a4-2a7a0c16b3bd",
   "metadata": {},
   "outputs": [
    {
     "name": "stdout",
     "output_type": "stream",
     "text": [
      "indoor\n",
      "outdoor\n",
      "night\n"
     ]
    }
   ],
   "source": [
    "from scipy.stats import kruskal\n",
    "\n",
    "\n",
    "def key_sorted_values(dct, normalize=True):\n",
    "    values = [dct[k] for k in sorted(dct.keys())]\n",
    "    if normalize:\n",
    "        max_value = max(*values)\n",
    "        values = [v/max_value for v in values]\n",
    "    return values\n",
    "\n",
    "def key_positions(dct, reverse=False):\n",
    "    positions = {k: i for i, (k, _) in enumerate(sorted(dct.items(), key=lambda x: x[1], reverse=reverse))}\n",
    "    return [positions[k] for k in sorted(dct.keys())]\n",
    "\n",
    "kruskal_results_dfs = {}\n",
    "\n",
    "for image_name in [\"indoor\", \"outdoor\", \"night\"]:\n",
    "    print(image_name)\n",
    "    dino_ratings = tonemapper_brightness_losses[image_name]\n",
    "    dino_ratings_list = key_positions(dino_ratings, reverse=False)\n",
    "    df_data = {}\n",
    "    for header in ranking_df[image_name].columns[1:]:\n",
    "        rankings = ranking_df[image_name]\n",
    "        ratings = rating_df[image_name]\n",
    "        tm_rankings = {rankings.tm[i]: rankings[header][i] for i in range(len(ranking_df.index))}\n",
    "        tm_ratings = {ratings.tm[i]: ratings[header][i] for i in range(len(rating_df.index))}\n",
    "        assert len(tm_rankings) == len(tm_ratings)\n",
    "        assert len(tm_rankings) == len(dino_ratings)\n",
    "        tm_rankings_list = key_positions(tm_rankings, reverse=True)\n",
    "        tm_ratings_list = key_positions(tm_ratings, reverse=True)\n",
    "        statistic, p_value = kruskal(*list(zip(tm_rankings_list, tm_ratings_list)))\n",
    "        kruskal_results = {\"rating vs ranking\": statistic}\n",
    "        #kruskal_results = {\"H (rating vs ranking)\": statistic, \"p (rating vs ranking)\": p_value}\n",
    "        statistic, p_value = kruskal(*list(zip(dino_ratings_list, tm_rankings_list)))\n",
    "        kruskal_results[\"DINOS vs ranking\"] = statistic\n",
    "        #kruskal_results.update({\"H (DINOS vs ranking)\": statistic, \"p (DINOS vs ranking)\": p_value})\n",
    "        statistic, p_value = kruskal(*list(zip(dino_ratings_list, tm_ratings_list)))\n",
    "        kruskal_results[\"DINOS vs rating\"] = statistic\n",
    "        #kruskal_results.update({\"H (DINOS vs rating)\": statistic, \"p (DINOS vs rating)\": p_value})\n",
    "        statistic, p_value = kruskal(*list(zip(dino_ratings_list, tm_rankings_list, tm_ratings_list)))\n",
    "        kruskal_results[\"DINOS vs ranking vs rating\"] = statistic\n",
    "        #kruskal_results.update({\"H (DINOS vs rating vs ranking)\": statistic, \"p (DINOS vs rating vs ranking)\": p_value})\n",
    "        df_data[header] = kruskal_results\n",
    "    kruskal_results_dfs[image_name] = pd.DataFrame(df_data)"
   ]
  },
  {
   "cell_type": "code",
   "execution_count": 6,
   "id": "188e3682-6962-422a-b330-a328f8d9c4f5",
   "metadata": {},
   "outputs": [
    {
     "name": "stdout",
     "output_type": "stream",
     "text": [
      "indoor\n",
      "                            brightness   contrast    details    colours  \\\n",
      "rating vs ranking            19.226374  21.303297  20.175824  22.786813   \n",
      "DINOS vs ranking             14.894505  15.013187  11.156044  17.980220   \n",
      "DINOS vs rating              11.452747  15.428571   9.197802  17.802198   \n",
      "DINOS vs ranking vs rating   17.090842  21.255922  13.686691  25.861538   \n",
      "\n",
      "                              quality  \n",
      "rating vs ranking           19.819780  \n",
      "DINOS vs ranking            20.175824  \n",
      "DINOS vs rating             14.419780  \n",
      "DINOS vs ranking vs rating  23.058120  \n",
      "\n",
      "outdoor\n",
      "                            brightness   contrast    details    colours  \\\n",
      "rating vs ranking            21.956044  23.380220  24.567033  24.151648   \n",
      "DINOS vs ranking             16.081319  21.362637  19.819780  20.828571   \n",
      "DINOS vs rating              23.854945  25.219780  19.819780  24.389011   \n",
      "DINOS vs ranking vs rating   28.104274  33.550916  29.666178  33.150427   \n",
      "\n",
      "                              quality  \n",
      "rating vs ranking           25.931868  \n",
      "DINOS vs ranking            23.973626  \n",
      "DINOS vs rating             25.160440  \n",
      "DINOS vs ranking vs rating  36.995116  \n",
      "\n",
      "night\n",
      "                            brightness   contrast    details    colours  \\\n",
      "rating vs ranking            22.371429  25.931868  24.151648  26.169231   \n",
      "DINOS vs ranking             26.584615  26.703297  26.703297  26.643956   \n",
      "DINOS vs rating              22.786813  26.109890  24.092308  26.347253   \n",
      "DINOS vs ranking vs rating   34.752381  39.478144  36.915018  39.758486   \n",
      "\n",
      "                              quality  \n",
      "rating vs ranking           25.397802  \n",
      "DINOS vs ranking            26.525275  \n",
      "DINOS vs rating             25.872527  \n",
      "DINOS vs ranking vs rating  38.837363  \n",
      "\n"
     ]
    }
   ],
   "source": [
    "for k, v in kruskal_results_dfs.items():\n",
    "    print(k)\n",
    "    print(v)\n",
    "    print(\"\")"
   ]
  }
 ],
 "metadata": {
  "kernelspec": {
   "display_name": "Python 3 (ipykernel)",
   "language": "python",
   "name": "python3"
  },
  "language_info": {
   "codemirror_mode": {
    "name": "ipython",
    "version": 3
   },
   "file_extension": ".py",
   "mimetype": "text/x-python",
   "name": "python",
   "nbconvert_exporter": "python",
   "pygments_lexer": "ipython3",
   "version": "3.12.9"
  }
 },
 "nbformat": 4,
 "nbformat_minor": 5
}
