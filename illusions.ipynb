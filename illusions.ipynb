{
 "cells": [
  {
   "cell_type": "code",
   "execution_count": 3,
   "id": "0a841bba-c771-4182-9e30-fde047eac601",
   "metadata": {},
   "outputs": [],
   "source": [
    "import os\n",
    "from pathlib import Path\n",
    "\n",
    "from src import dino\n",
    "\n",
    "\n",
    "# Output directory (_output is ignored by git)\n",
    "OUTPUT_DIR = \"_output\"\n",
    "if not os.path.isdir(OUTPUT_DIR):\n",
    "    os.makedirs(OUTPUT_DIR)\n",
    "    print(\"Created output directory:\", OUTPUT_DIR)\n",
    "\n",
    "\n",
    "IMAGE_DIR = Path(\"images\")\n",
    "def file_to_brightness(file_path, model, white_nits=200):\n",
    "    image = dino.read_image(file_path)\n",
    "    L = dino.rgb_to_relative_luminance(image)\n",
    "    L *= white_nits\n",
    "    return model(L)"
   ]
  },
  {
   "cell_type": "code",
   "execution_count": 5,
   "id": "c566fbe2-87fe-4d33-81f5-20e09092eb3a",
   "metadata": {},
   "outputs": [
    {
     "name": "stdout",
     "output_type": "stream",
     "text": [
      "Exported _output/hermann_distorted_dinos.html\n"
     ]
    }
   ],
   "source": [
    "from src import plotting\n",
    "\n",
    "## Apply model to all illusions\n",
    "ILLUSION_IMAGES = [\n",
    "    #\"mondrian1.png\",\n",
    "    #\"sunflower.png\",\n",
    "    #\"noisy_contrast.png\",\n",
    "    #\"hermann.png\",\n",
    "    \"hermann_distorted.png\",\n",
    "]\n",
    "\n",
    "for image in ILLUSION_IMAGES:\n",
    "    for name, model in [\n",
    "        (\"dinos\", dino.dn_brightness_model),\n",
    "        #(\"blakeslee97\", dino.blakeslee97_brightness_model),\n",
    "        #(\"blommaert\", dino.blommaert_brightness_model),\n",
    "    ]:\n",
    "        brightness = file_to_brightness(str(IMAGE_DIR / image), model)\n",
    "        filename = f\"{os.path.splitext(image)[0]}_{name}.html\"\n",
    "        filepath = os.path.join(OUTPUT_DIR, filename)\n",
    "        plotting.image_height_plot(\n",
    "            brightness,\n",
    "            output_path=filepath,\n",
    "            display=False,\n",
    "        )\n",
    "        print(\"Exported\", filepath)"
   ]
  },
  {
   "cell_type": "code",
   "execution_count": 3,
   "id": "c0052a24-fece-4f07-9ad2-73039e0a3fac",
   "metadata": {},
   "outputs": [
    {
     "data": {
      "application/vnd.jupyter.widget-view+json": {
       "model_id": "5af38676876b4e878e18f42b5836da5b",
       "version_major": 2,
       "version_minor": 0
      },
      "text/plain": [
       "  0%|          | 0/3 [00:00<?, ?it/s]"
      ]
     },
     "metadata": {},
     "output_type": "display_data"
    },
    {
     "ename": "TypeError",
     "evalue": "file_to_brightness() missing 1 required positional argument: 'model'",
     "output_type": "error",
     "traceback": [
      "\u001b[0;31m---------------------------------------------------------------------------\u001b[0m",
      "\u001b[0;31mTypeError\u001b[0m                                 Traceback (most recent call last)",
      "Cell \u001b[0;32mIn[3], line 32\u001b[0m\n\u001b[1;32m     30\u001b[0m original_img \u001b[38;5;241m=\u001b[39m mpimg\u001b[38;5;241m.\u001b[39mimread(image_path)\n\u001b[1;32m     31\u001b[0m upper\u001b[38;5;241m.\u001b[39mimshow(original_img, cmap\u001b[38;5;241m=\u001b[39m\u001b[38;5;124m\"\u001b[39m\u001b[38;5;124mGreys\u001b[39m\u001b[38;5;124m\"\u001b[39m, aspect\u001b[38;5;241m=\u001b[39m\u001b[38;5;124m\"\u001b[39m\u001b[38;5;124mequal\u001b[39m\u001b[38;5;124m\"\u001b[39m)\n\u001b[0;32m---> 32\u001b[0m brightness \u001b[38;5;241m=\u001b[39m \u001b[43mfile_to_brightness\u001b[49m\u001b[43m(\u001b[49m\u001b[43mimage_path\u001b[49m\u001b[43m)\u001b[49m\n\u001b[1;32m     33\u001b[0m norm \u001b[38;5;241m=\u001b[39m Normalize(vmin\u001b[38;5;241m=\u001b[39m\u001b[38;5;241m-\u001b[39m\u001b[38;5;241m0.1\u001b[39m, vmax\u001b[38;5;241m=\u001b[39m\u001b[38;5;241m0.2\u001b[39m, clip\u001b[38;5;241m=\u001b[39m\u001b[38;5;28;01mTrue\u001b[39;00m)\n\u001b[1;32m     34\u001b[0m im \u001b[38;5;241m=\u001b[39m lower\u001b[38;5;241m.\u001b[39mimshow(brightness, cmap\u001b[38;5;241m=\u001b[39m\u001b[38;5;124m\"\u001b[39m\u001b[38;5;124mviridis\u001b[39m\u001b[38;5;124m\"\u001b[39m, norm\u001b[38;5;241m=\u001b[39mnorm, aspect\u001b[38;5;241m=\u001b[39m\u001b[38;5;124m\"\u001b[39m\u001b[38;5;124mequal\u001b[39m\u001b[38;5;124m\"\u001b[39m)\n",
      "\u001b[0;31mTypeError\u001b[0m: file_to_brightness() missing 1 required positional argument: 'model'"
     ]
    },
    {
     "data": {
      "image/png": "[encoded data removed]",
      "text/plain": [
       "<Figure size 640x480 with 4 Axes>"
      ]
     },
     "metadata": {},
     "output_type": "display_data"
    }
   ],
   "source": [
    "import numpy as np\n",
    "import matplotlib.pyplot as plt\n",
    "import matplotlib.image as mpimg\n",
    "from matplotlib.colors import Normalize\n",
    "from tqdm.auto import tqdm\n",
    "\n",
    "\n",
    "IMAGE_POINTS_OF_INTEREST = {\n",
    "    \"ramp_squares.png\": [\n",
    "        (470, 330), (850, 330),\n",
    "        \n",
    "    ],\n",
    "    \"ramp_bar.png\": [\n",
    "        (420, 330), (880, 330),\n",
    "    ],\n",
    "    \"whites.png\": [\n",
    "        (570, 410), (1350, 540),\n",
    "    ],\n",
    "}\n",
    "MODELS = [\n",
    "    dino.blommaert_brightness_model,\n",
    "    dino.blakeslee97_brightness_model,\n",
    "    dino.dn_brightness_model,\n",
    "]\n",
    "\n",
    "for image, pois in tqdm(IMAGE_POINTS_OF_INTEREST.items()):\n",
    "    image_path = str(IMAGE_DIR / image)\n",
    "    fig, axs = plt.subplots(1+len(MODELS), 1)\n",
    "    upper = axs[0]\n",
    "    original_img = mpimg.imread(image_path)\n",
    "    upper.imshow(original_img, cmap=\"Greys\", aspect=\"equal\")\n",
    "    brightness = file_to_brightness(image_path)\n",
    "    norm = Normalize(vmin=-0.1, vmax=0.2, clip=True)\n",
    "    im = lower.imshow(brightness, cmap=\"viridis\", norm=norm, aspect=\"equal\")\n",
    "    fig.colorbar(im, ax=axs.ravel().tolist())\n",
    "    for px, py in pois:\n",
    "        lower.plot(px, py, marker=\".\", color=\"red\", markersize=2)\n",
    "        lower.text(\n",
    "            px, py-80,\n",
    "            str(round(brightness[py,px], 3)),\n",
    "            color=\"red\",\n",
    "            fontsize=10,\n",
    "            horizontalalignment=\"center\",\n",
    "        )\n",
    "    for ax in axs:\n",
    "        ax.set_xticks([])\n",
    "        ax.set_xticklabels([])\n",
    "        ax.set_yticks([])\n",
    "        ax.set_yticklabels([])\n",
    "    # file_path = Path(\"_output\") / f\"{(IMAGE_DIR / image).stem}.pdf\"\n",
    "    # fig.savefig(file_path, bbox_inches=\"tight\", dpi=300, transparent=True)\n",
    "    # print(f\"Exported {file_path}\")"
   ]
  },
  {
   "cell_type": "code",
   "execution_count": null,
   "id": "d2329754-84c6-43a1-ab7f-26e8f978b20b",
   "metadata": {},
   "outputs": [],
   "source": []
  }
 ],
 "metadata": {
  "kernelspec": {
   "display_name": "Python 3 (ipykernel)",
   "language": "python",
   "name": "python3"
  },
  "language_info": {
   "codemirror_mode": {
    "name": "ipython",
    "version": 3
   },
   "file_extension": ".py",
   "mimetype": "text/x-python",
   "name": "python",
   "nbconvert_exporter": "python",
   "pygments_lexer": "ipython3",
   "version": "3.12.3"
  }
 },
 "nbformat": 4,
 "nbformat_minor": 5
}
