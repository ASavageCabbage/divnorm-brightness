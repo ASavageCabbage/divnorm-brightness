{
 "cells": [
  {
   "cell_type": "code",
   "execution_count": 1,
   "id": "ecdcb341-044b-4366-94b7-394857bcbab7",
   "metadata": {},
   "outputs": [
    {
     "name": "stderr",
     "output_type": "stream",
     "text": [
      "[ WARN:0@399.368] global loadsave.cpp:848 imwrite_ Unsupported depth image for selected encoder is fallbacked to CV_8U.\n"
     ]
    },
    {
     "name": "stdout",
     "output_type": "stream",
     "text": [
      "Exported _output/507_bronto_k=0.18.png\n"
     ]
    }
   ],
   "source": [
    "from pathlib import Path\n",
    "\n",
    "from src.dino.opencv import read_image, write_image\n",
    "from src.tone_mappers.bronto import bronto\n",
    "from src.tone_mappers.exposure import exposure_luminance\n",
    "from src.tone_mappers.linear import linear_luminance\n",
    "from src.tone_mappers.reinhard import reinhard_luminance\n",
    "\n",
    "\n",
    "INPUT_IMAGE = Path(\"images/507.exr\")\n",
    "image = read_image(str(INPUT_IMAGE))\n",
    "OUTPUT_PATH = Path(\"_output\")\n",
    "\n",
    "# for pct in [100, 90, 80, 70, 60]:\n",
    "#     linear_tonemapped = linear_luminance(image, pct=pct)\n",
    "#     file_path = f\"{OUTPUT_PATH / INPUT_IMAGE.stem}_linear_p{pct}.png\"\n",
    "#     write_image(file_path, linear_tonemapped)\n",
    "#     print(\"Exported\", file_path)\n",
    "\n",
    "# for key in [0.05, 0.1, 0.18, 0.25, 0.4]:\n",
    "#     exposure_tonemapped = exposure_luminance(image, key=key)\n",
    "#     file_path = f\"{OUTPUT_PATH / INPUT_IMAGE.stem}_exposure_k={key}.png\"\n",
    "#     write_image(file_path, exposure_tonemapped)\n",
    "#     print(\"Exported\", file_path)\n",
    "\n",
    "# reinhard_tonemapped = reinhard_luminance(image)\n",
    "# file_path = f\"{OUTPUT_PATH / INPUT_IMAGE.stem}_reinhard_default.png\"\n",
    "# write_image(file_path, reinhard_tonemapped)\n",
    "# print(\"Exported\", file_path)\n",
    "\n",
    "bronto_tonemapped = bronto(image, k=0.18)\n",
    "file_path = f\"{OUTPUT_PATH / INPUT_IMAGE.stem}_bronto_k=0.18.png\"\n",
    "write_image(file_path, bronto_tonemapped)\n",
    "print(\"Exported\", file_path)"
   ]
  },
  {
   "cell_type": "code",
   "execution_count": null,
   "id": "b57df644-49cf-498c-954f-25a3b5e824d1",
   "metadata": {},
   "outputs": [],
   "source": []
  }
 ],
 "metadata": {
  "kernelspec": {
   "display_name": "Python 3 (ipykernel)",
   "language": "python",
   "name": "python3"
  },
  "language_info": {
   "codemirror_mode": {
    "name": "ipython",
    "version": 3
   },
   "file_extension": ".py",
   "mimetype": "text/x-python",
   "name": "python",
   "nbconvert_exporter": "python",
   "pygments_lexer": "ipython3",
   "version": "3.12.9"
  }
 },
 "nbformat": 4,
 "nbformat_minor": 5
}
