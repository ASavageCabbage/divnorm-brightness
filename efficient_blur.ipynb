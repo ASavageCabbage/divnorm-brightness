{
 "cells": [
  {
   "cell_type": "code",
   "execution_count": 28,
   "id": "a1b6c101",
   "metadata": {},
   "outputs": [],
   "source": [
    "from pathlib import Path\n",
    "\n",
    "import cv2\n",
    "import numpy as np\n",
    "\n",
    "from src.dino.opencv import arcmin2_to_pixel2, read_image, write_image\n",
    "from src.dino.util import generate_scales\n",
    "from src.tone_mappers.util import rgb_to_xyz, xyz_to_lxy, lxy_to_rgb\n",
    "\n",
    "\n",
    "def gaussian_blur(\n",
    "    image: np.ndarray, sigma: float, kernel_sigmas: int = 2\n",
    ") -> np.ndarray:\n",
    "    # Ensure the kernel size is odd\n",
    "    kernel_size = int(2 * kernel_sigmas * sigma + 1) | 1\n",
    "    blurred = cv2.GaussianBlur(\n",
    "        image,\n",
    "        (kernel_size, kernel_size),\n",
    "        sigmaX=sigma,\n",
    "        sigmaY=sigma,\n",
    "        borderType=cv2.BORDER_REFLECT_101,\n",
    "    )\n",
    "    return np.squeeze(blurred)\n",
    "\n",
    "\n",
    "def generate_mipmap(\n",
    "    image: np.ndarray, downscale_ratio: float, levels: int\n",
    ") -> list[np.ndarray]:\n",
    "    images = [image]\n",
    "    for i in range(levels):\n",
    "        prev_image = images[-1]\n",
    "        height, width = prev_image.shape[:2]\n",
    "        new_w = max(1, round(width / downscale_ratio))\n",
    "        new_h = max(1, round(height / downscale_ratio))\n",
    "        images.append(\n",
    "            cv2.resize(prev_image, (new_w, new_h), interpolation=cv2.INTER_AREA)\n",
    "        )\n",
    "    return images\n",
    "\n",
    "\n",
    "def efficient_blur_from_mipmap(mipmap: list[np.ndarray], level: int, sigma: int) -> np.ndarray:\n",
    "    height, width = mipmap[0].shape[:2]\n",
    "    blurred = gaussian_blur(mipmap[level], sigma)\n",
    "    return cv2.resize(blurred, (width, height), interpolation=cv2.INTER_LINEAR)\n",
    "\n",
    "\n",
    "def bronto_efficient(\n",
    "    rgb_image: np.ndarray,\n",
    "    cs_ratio: float = 2.0,\n",
    "    num_scales: int = 13,\n",
    "    k: float = 0.3,\n",
    "    w: float = 0.9,\n",
    "    m: float = 0.1,\n",
    "    d_nit_arcmin2: float = 100,\n",
    "    image_fov_degrees: float = 72,\n",
    ") -> np.ndarray:\n",
    "    X, Y, Z = rgb_to_xyz(rgb_image)\n",
    "    L, x_chroma, y_chroma = xyz_to_lxy(X, Y, Z)\n",
    "    width = L.shape[1]\n",
    "    d = arcmin2_to_pixel2(d_nit_arcmin2, width, image_fov_degrees)\n",
    "\n",
    "    mipmap = generate_mipmap(L, cs_ratio, num_scales)\n",
    "    num_scales = len(mipmap)\n",
    "    weights = [w**i for i in range(num_scales)]\n",
    "    scales = generate_scales(width, cs_ratio, num_scales)\n",
    "    center_response = efficient_blur_from_mipmap(mipmap, 0, cs_ratio)\n",
    "    accum = np.zeros_like(L)\n",
    "    c_sum = np.zeros_like(L)\n",
    "\n",
    "    for i in range(1, num_scales):\n",
    "        surround_response = efficient_blur_from_mipmap(mipmap, i, cs_ratio)\n",
    "        w = weights[i - 1]\n",
    "        _d = d / scales[i] ** 2\n",
    "        c = w * np.abs((center_response + _d) / (surround_response + _d) - 1) + m\n",
    "        accum += c * surround_response\n",
    "        c_sum += c\n",
    "        center_response = surround_response\n",
    "\n",
    "    local_white = accum / c_sum\n",
    "    L_tonemapped = (k / local_white) * L\n",
    "    return lxy_to_rgb(L_tonemapped, x_chroma, y_chroma)\n",
    "\n",
    "\n",
    "def bronto(\n",
    "    rgb_image: np.ndarray,\n",
    "    cs_ratio: float = 2.0,\n",
    "    num_scales: int = 13,\n",
    "    k: float = 0.3,\n",
    "    w: float = 0.9,\n",
    "    m: float = 0.1,\n",
    "    d_nit_arcmin2: float = 100,\n",
    "    image_fov_degrees: float = 72,\n",
    ") -> np.ndarray:\n",
    "    X, Y, Z = rgb_to_xyz(rgb_image)\n",
    "    L, x_chroma, y_chroma = xyz_to_lxy(X, Y, Z)\n",
    "    width = L.shape[1]\n",
    "    d = arcmin2_to_pixel2(d_nit_arcmin2, width, image_fov_degrees)\n",
    "\n",
    "    scales = generate_scales(width, cs_ratio, num_scales)\n",
    "    weights = [w**i for i in range(len(scales))]\n",
    "    center_response = gaussian_blur(L, scales[0])\n",
    "    accum = np.zeros_like(L)\n",
    "    c_sum = np.zeros_like(L)\n",
    "\n",
    "    for i in range(1, len(scales)):\n",
    "        surround_response = gaussian_blur(L, scales[i])\n",
    "        w = weights[i - 1]\n",
    "        _d = d / scales[i] ** 2\n",
    "        c = w * np.abs((center_response + _d) / (surround_response + _d) - 1) + m\n",
    "        accum += c * surround_response\n",
    "        c_sum += c\n",
    "        center_response = surround_response\n",
    "\n",
    "    local_white = accum / c_sum\n",
    "    L_tonemapped = (k / local_white) * L\n",
    "    return lxy_to_rgb(L_tonemapped, x_chroma, y_chroma)\n",
    "\n",
    "\n",
    "def tonemap_image(image_path, output_path, tone_mapper, name, *args, **kwargs):\n",
    "    image = read_image(str(image_path))\n",
    "    tonemapped = tone_mapper(image, *args, **kwargs)\n",
    "    file_path = f\"{output_path / image_path.stem}_{name}.png\"\n",
    "    write_image(file_path, tonemapped)\n",
    "    print(\"Exported\", file_path)"
   ]
  },
  {
   "cell_type": "code",
   "execution_count": 31,
   "id": "e531befa",
   "metadata": {},
   "outputs": [],
   "source": [
    "INPUT_IMAGE = Path(\"images/LuxoDoubleChecker.exr\")\n",
    "OUTPUT_PATH = Path(\"_output\")"
   ]
  },
  {
   "cell_type": "code",
   "execution_count": 26,
   "id": "de1f626e",
   "metadata": {},
   "outputs": [
    {
     "name": "stdout",
     "output_type": "stream",
     "text": [
      "Exported _output/HancockKitchenInside_bronto.png\n"
     ]
    }
   ],
   "source": [
    "tonemap_image(INPUT_IMAGE, OUTPUT_PATH, bronto, \"bronto\")"
   ]
  },
  {
   "cell_type": "code",
   "execution_count": 32,
   "id": "bd507974",
   "metadata": {},
   "outputs": [
    {
     "name": "stdout",
     "output_type": "stream",
     "text": [
      "Exported _output/LuxoDoubleChecker_bronto_efficient_linear.png\n"
     ]
    }
   ],
   "source": [
    "tonemap_image(INPUT_IMAGE, OUTPUT_PATH, bronto_efficient, \"bronto_efficient_linear\")"
   ]
  },
  {
   "cell_type": "code",
   "execution_count": 11,
   "id": "36e795b2",
   "metadata": {},
   "outputs": [],
   "source": [
    "mipmap = generate_mipmap(read_image(str(INPUT_IMAGE)), 2, 10)\n",
    "blurs = [efficient_blur_from_mipmap(mipmap, i, 2) for i in range(len(mipmap))]\n",
    "for i, image in enumerate(blurs):\n",
    "    write_image(f\"{OUTPUT_PATH / INPUT_IMAGE.stem}_level{i}.png\", image)"
   ]
  }
 ],
 "metadata": {
  "kernelspec": {
   "display_name": "tonemapping",
   "language": "python",
   "name": "python3"
  },
  "language_info": {
   "codemirror_mode": {
    "name": "ipython",
    "version": 3
   },
   "file_extension": ".py",
   "mimetype": "text/x-python",
   "name": "python",
   "nbconvert_exporter": "python",
   "pygments_lexer": "ipython3",
   "version": "3.13.2"
  }
 },
 "nbformat": 4,
 "nbformat_minor": 5
}
