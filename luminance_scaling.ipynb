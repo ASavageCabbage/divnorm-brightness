{
 "cells": [
  {
   "cell_type": "code",
   "execution_count": 3,
   "id": "4161d578-0db8-406f-903c-857ccc69a74f",
   "metadata": {},
   "outputs": [],
   "source": [
    "from pathlib import Path\n",
    "import numpy as np\n",
    "from src import dino\n",
    "from src import plotting\n",
    "\n",
    "IMAGE_PATH = Path(\"images/mondrian1.png\")\n",
    "WHITE_NITS = 400\n",
    "\n",
    "image = dino.read_image(str(IMAGE_PATH))\n",
    "absolute_L = dino.rgb_to_relative_luminance(image) * WHITE_NITS\n",
    "\n",
    "def brightness_response_html(transformed_L, output_filename):\n",
    "    brightness = dino.dn_brightness_model(transformed_L)\n",
    "    output_path = str(Path(\"_output\") / output_filename)\n",
    "    plotting.image_height_plot(brightness, output_path=output_path, display=False)\n",
    "    print(\"Exported\", output_path)"
   ]
  },
  {
   "cell_type": "code",
   "execution_count": 4,
   "id": "8a656c35-29cb-405a-acf9-692b68c195aa",
   "metadata": {},
   "outputs": [
    {
     "name": "stdout",
     "output_type": "stream",
     "text": [
      "Exported _output/dinos_mondrian1.html\n"
     ]
    }
   ],
   "source": [
    "# no scaling\n",
    "brightness_response_html(absolute_L, \"dinos_mondrian1.html\")"
   ]
  },
  {
   "cell_type": "code",
   "execution_count": 4,
   "id": "21ab9513-6d08-4b57-a451-42ca6ad67874",
   "metadata": {},
   "outputs": [
    {
     "name": "stdout",
     "output_type": "stream",
     "text": [
      "Exported _output/dinos_gamma.html\n"
     ]
    }
   ],
   "source": [
    "# gamma scaling (1/2.2)\n",
    "L = absolute_L ** (1/2.2)\n",
    "brightness_response_html(L, \"dinos_gamma.html\")"
   ]
  },
  {
   "cell_type": "code",
   "execution_count": 5,
   "id": "7043b018-6b2d-4f7a-9cb9-51a89f805dd5",
   "metadata": {},
   "outputs": [
    {
     "name": "stdout",
     "output_type": "stream",
     "text": [
      "Exported _output/dinos_lg_scaling.html\n"
     ]
    }
   ],
   "source": [
    "# log scaling (log base 2)\n",
    "L = np.log2(absolute_L)\n",
    "brightness_response_html(L, \"dinos_lg_scaling.html\")"
   ]
  },
  {
   "cell_type": "code",
   "execution_count": 6,
   "id": "c3bbe8d5-1d65-4d33-8b97-393c6df3085b",
   "metadata": {},
   "outputs": [
    {
     "name": "stdout",
     "output_type": "stream",
     "text": [
      "Exported _output/dinos_lg_plus_one_scaling.html\n"
     ]
    }
   ],
   "source": [
    "# log scaling (log base 2 of L+1 to prevent negatives)\n",
    "L = np.log2(absolute_L + 1)\n",
    "brightness_response_html(L, \"dinos_lg_plus_one_scaling.html\")"
   ]
  },
  {
   "cell_type": "code",
   "execution_count": null,
   "id": "d7a35ad4-9c57-4a49-bf00-75cf5e4aa37b",
   "metadata": {},
   "outputs": [],
   "source": []
  }
 ],
 "metadata": {
  "kernelspec": {
   "display_name": "Python 3 (ipykernel)",
   "language": "python",
   "name": "python3"
  },
  "language_info": {
   "codemirror_mode": {
    "name": "ipython",
    "version": 3
   },
   "file_extension": ".py",
   "mimetype": "text/x-python",
   "name": "python",
   "nbconvert_exporter": "python",
   "pygments_lexer": "ipython3",
   "version": "3.12.9"
  }
 },
 "nbformat": 4,
 "nbformat_minor": 5
}
